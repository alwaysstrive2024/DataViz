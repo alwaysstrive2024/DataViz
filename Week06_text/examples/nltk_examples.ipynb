{
 "cells": [
  {
   "cell_type": "code",
   "execution_count": 1,
   "metadata": {},
   "outputs": [
    {
     "name": "stderr",
     "output_type": "stream",
     "text": [
      "/usr/local/lib/python3.5/dist-packages/matplotlib/font_manager.py:232: UserWarning: Matplotlib is building the font cache using fc-list. This may take a moment.\n",
      "  'Matplotlib is building the font cache using fc-list. '\n"
     ]
    }
   ],
   "source": [
    "\"\"\"\n",
    "Simple examples of nltk in action\n",
    "\n",
    "If this example throws an error, try executing nltk.download(['punkt', 'stopwords', 'wordnet']) once.\n",
    "\"\"\"\n",
    "\n",
    "# On Vocareum, this is a Python 3.5 notebook due to an issue with importing nltk in Python 3.6\n",
    "# This code updates sys.path to remove all paths containing \"3.6\" so the notebook runs correctly\n",
    "# This code should be commented out when running on your desktop\n",
    "import sys\n",
    "sys.path = [path for path in sys.path if \"3.6\" not in path]\n",
    "\n",
    "# Regular imports\n",
    "import nltk\n",
    "import matplotlib.pyplot as plt\n",
    "import collections"
   ]
  },
  {
   "cell_type": "code",
   "execution_count": 2,
   "metadata": {},
   "outputs": [
    {
     "data": {
      "image/png": "[encoded data removed]",
      "text/plain": [
       "<Figure size 432x288 with 1 Axes>"
      ]
     },
     "metadata": {},
     "output_type": "display_data"
    },
    {
     "name": "stdout",
     "output_type": "stream",
     "text": [
      "[('cat', 3), ('dog', 2), ('pig', 1), ('cats', 1)]\n"
     ]
    }
   ],
   "source": [
    "import nltk\n",
    "text_words = [\"cat\", \"dog\", \"cat\", \"dog\", \"pig\", \"cat\", \"cats\"]\n",
    "freqs = nltk.FreqDist(text_words)\n",
    "freqs.plot(len(text_words), cumulative=False)\n",
    "counts = freqs.most_common(len(text_words))\n",
    "print(counts)"
   ]
  },
  {
   "cell_type": "code",
   "execution_count": 3,
   "metadata": {},
   "outputs": [
    {
     "data": {
      "text/plain": [
       "FreqDist({'cat': 3, 'cats': 1, 'dog': 2, 'pig': 1})"
      ]
     },
     "execution_count": 3,
     "metadata": {},
     "output_type": "execute_result"
    }
   ],
   "source": [
    "freqs"
   ]
  },
  {
   "cell_type": "code",
   "execution_count": 2,
   "metadata": {
    "collapsed": true
   },
   "outputs": [],
   "source": [
    "raw_text = \"We want to process this text in two steps. Step 1 contains text tokenizing and step 2 counts words frequencies.\""
   ]
  },
  {
   "cell_type": "markdown",
   "metadata": {},
   "source": [
    "**Converting the `raw_text` to a list of alphabetical words with lowercase letters that excludes stop words:**"
   ]
  },
  {
   "cell_type": "code",
   "execution_count": 3,
   "metadata": {},
   "outputs": [
    {
     "name": "stdout",
     "output_type": "stream",
     "text": [
      "['We', 'want', 'to', 'process', 'this', 'text', 'in', 'two', 'steps', '.', 'Step', '1', 'contains', 'text', 'tokenizing', 'and', 'step', '2', 'counts', 'words', 'frequencies', '.']\n"
     ]
    }
   ],
   "source": [
    "# tokenizing\n",
    "tokenized_words = nltk.tokenize.word_tokenize(raw_text)\n",
    "print(tokenized_words)"
   ]
  },
  {
   "cell_type": "code",
   "execution_count": 4,
   "metadata": {
    "scrolled": true
   },
   "outputs": [
    {
     "name": "stdout",
     "output_type": "stream",
     "text": [
      "['we', 'want', 'to', 'process', 'this', 'text', 'in', 'two', 'steps', 'step', 'contains', 'text', 'tokenizing', 'and', 'step', 'counts', 'words', 'frequencies']\n"
     ]
    }
   ],
   "source": [
    "# keep alphabetical words with lowercase letters  \n",
    "raw_words = [word.lower() for word in tokenized_words if word.isalpha()]\n",
    "print(raw_words)"
   ]
  },
  {
   "cell_type": "code",
   "execution_count": 5,
   "metadata": {},
   "outputs": [
    {
     "name": "stdout",
     "output_type": "stream",
     "text": [
      "['want', 'process', 'text', 'two', 'steps', 'step', 'contains', 'text', 'tokenizing', 'step', 'counts', 'words', 'frequencies']\n"
     ]
    }
   ],
   "source": [
    "# remove stop words\n",
    "stop_words = nltk.corpus.stopwords.words('english')\n",
    "#print(stop_words)\n",
    "cleaned_words = [word for word in raw_words if word not in stop_words]\n",
    "print(cleaned_words)"
   ]
  },
  {
   "cell_type": "markdown",
   "metadata": {},
   "source": [
    "**Lemmatization is applied to convert words with similar meaning to a single term.**"
   ]
  },
  {
   "cell_type": "code",
   "execution_count": 6,
   "metadata": {},
   "outputs": [
    {
     "name": "stdout",
     "output_type": "stream",
     "text": [
      "['want', 'process', 'text', 'two', 'step', 'step', 'contains', 'text', 'tokenizing', 'step', 'count', 'word', 'frequency']\n"
     ]
    }
   ],
   "source": [
    "# lemmatization\n",
    "lemmatizer = nltk.stem.WordNetLemmatizer()\n",
    "words = [lemmatizer.lemmatize(word) for word in cleaned_words]\n",
    "print(words)"
   ]
  },
  {
   "cell_type": "markdown",
   "metadata": {},
   "source": [
    "**Computing and plotting word counts:**"
   ]
  },
  {
   "cell_type": "code",
   "execution_count": 7,
   "metadata": {},
   "outputs": [
    {
     "data": {
      "image/png": "[encoded data removed]",
      "text/plain": [
       "<Figure size 432x288 with 1 Axes>"
      ]
     },
     "metadata": {},
     "output_type": "display_data"
    },
    {
     "name": "stdout",
     "output_type": "stream",
     "text": [
      "OrderedDict([('step', 3), ('text', 2), ('process', 1), ('count', 1), ('want', 1), ('word', 1), ('contains', 1), ('tokenizing', 1), ('two', 1), ('frequency', 1)])\n"
     ]
    }
   ],
   "source": [
    "# count frequency of each word \n",
    "freqs = nltk.FreqDist(words)\n",
    "freqs.plot(len(words), cumulative=False)\n",
    "word_counts = collections.OrderedDict(freqs.most_common(len(words)))\n",
    "print(word_counts)"
   ]
  },
  {
   "cell_type": "markdown",
   "metadata": {},
   "source": [
    "**Another example of computing and plotting word counts in NLTK**"
   ]
  },
  {
   "cell_type": "code",
   "execution_count": 8,
   "metadata": {},
   "outputs": [
    {
     "data": {
      "image/png": "[encoded data removed]",
      "text/plain": [
       "<Figure size 432x288 with 1 Axes>"
      ]
     },
     "metadata": {},
     "output_type": "display_data"
    },
    {
     "name": "stdout",
     "output_type": "stream",
     "text": [
      "[('cat', 3), ('dog', 2), ('pig', 1), ('cats', 1)]\n"
     ]
    }
   ],
   "source": [
    "text_words = [\"cat\", \"dog\", \"cat\", \"dog\", \"pig\", \"cat\", \"cats\"]\n",
    "freqs = nltk.FreqDist(text_words)\n",
    "freqs.plot(len(text_words), cumulative=False)\n",
    "counts = freqs.most_common(len(text_words))\n",
    "print(counts)"
   ]
  }
 ],
 "metadata": {
  "kernelspec": {
   "display_name": "Python 3.5",
   "language": "python",
   "name": "python35"
  },
  "language_info": {
   "codemirror_mode": {
    "name": "ipython",
    "version": 3
   },
   "file_extension": ".py",
   "mimetype": "text/x-python",
   "name": "python",
   "nbconvert_exporter": "python",
   "pygments_lexer": "ipython3",
   "version": "3.5.2"
  }
 },
 "nbformat": 4,
 "nbformat_minor": 2
}
