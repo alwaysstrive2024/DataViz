{
 "cells": [
  {
   "cell_type": "code",
   "execution_count": 1,
   "id": "fd9b060e07f58465",
   "metadata": {
    "ExecuteTime": {
     "end_time": "2025-02-07T04:49:56.406655Z",
     "start_time": "2025-02-07T04:49:56.220241Z"
    }
   },
   "outputs": [
    {
     "name": "stdout",
     "output_type": "stream",
     "text": [
      "array1 is [ 0  3  7 12 18]\n"
     ]
    }
   ],
   "source": [
    "# %load numpy_example.py\n",
    "\"\"\"\n",
    "Simple examples of numpy in action\n",
    "\"\"\"\n",
    "\n",
    "import numpy as np\n",
    "\n",
    "# 1D arrays\n",
    "\n",
    "# array method converts list to numpy array\n",
    "array1 = np.array([0, 3, 7, 12, 18])\n",
    "print(\"array1 is\", array1)"
   ]
  },
  {
   "cell_type": "code",
   "execution_count": 3,
   "id": "bc18f3b6ba3dae01",
   "metadata": {
    "ExecuteTime": {
     "end_time": "2025-02-07T04:49:46.382886Z",
     "start_time": "2025-02-07T04:48:30.423586Z"
    }
   },
   "outputs": [
    {
     "name": "stdout",
     "output_type": "stream",
     "text": [
      "array2 is [ 0.  5. 10. 15. 20.]\n",
      "The data type of array2 is float64\n"
     ]
    }
   ],
   "source": [
    "# Create an array of 5 equally spaced numbers from 0 to 20\n",
    "array2 = np.linspace(0.0, 20.0, 5)\n",
    "print(\"array2 is\", array2)\n",
    "\n",
    "# Get the data type of array2\n",
    "print(\"The data type of array2 is\", array2.dtype)"
   ]
  },
  {
   "cell_type": "code",
   "execution_count": 5,
   "id": "11d2cc87887fd9c2",
   "metadata": {},
   "outputs": [
    {
     "name": "stdout",
     "output_type": "stream",
     "text": [
      "array3 is [ 0  5 10 15 20]\n",
      "The data type of array3 is int64\n",
      "7\n",
      "[ 5 10 15]\n"
     ]
    }
   ],
   "source": [
    "# Create an array similar to array2 including integers\n",
    "array3 = np.linspace(0., 20., 5, dtype=int)\n",
    "print(\"array3 is\", array3)\n",
    "print(\"The data type of array3 is\", array3.dtype)\n",
    "\n",
    "# Select from 1D array by passing an index or a slice\n",
    "print(array1[2])\n",
    "print(array3[1:-1])"
   ]
  },
  {
   "cell_type": "code",
   "execution_count": 7,
   "id": "4e6f361ce8c37154",
   "metadata": {
    "ExecuteTime": {
     "end_time": "2025-02-07T04:49:46.385251Z",
     "start_time": "2025-02-07T04:48:30.498240Z"
    }
   },
   "outputs": [
    {
     "name": "stdout",
     "output_type": "stream",
     "text": [
      "array1 + array3 equals\n",
      " [ 0  8 17 27 38]\n",
      "array2 * 3 equals\n",
      " [ 0. 15. 30. 45. 60.]\n"
     ]
    }
   ],
   "source": [
    "# Arithmetic operations applied to arrays\n",
    "print(\"array1 + array3 equals\\n\", array1 + array3)\n",
    "print(\"array2 * 3 equals\\n\", array2 * 3)"
   ]
  },
  {
   "cell_type": "code",
   "execution_count": 9,
   "id": "2295c933e9f4f147",
   "metadata": {},
   "outputs": [
    {
     "name": "stdout",
     "output_type": "stream",
     "text": [
      "2D example array\n",
      " [[0 1 2]\n",
      " [4 5 6]]\n",
      "Entry (1, 0) of array4 is 4\n"
     ]
    }
   ],
   "source": [
    "# 2D arrays\n",
    "\n",
    "# Simple example of 2D array\n",
    "array4 = np.array([[0, 1, 2], [4, 5, 6]])\n",
    "print(\"2D example array\\n\", array4)\n",
    "\n",
    "# Note 2D arrays are indexed by (row, col)\n",
    "print(\"Entry (1, 0) of array4 is\", array4[1, 0])"
   ]
  },
  {
   "cell_type": "code",
   "execution_count": 11,
   "id": "b2cb43aab83ce3ee",
   "metadata": {
    "ExecuteTime": {
     "end_time": "2025-02-07T04:49:46.385969Z",
     "start_time": "2025-02-07T04:48:30.562006Z"
    }
   },
   "outputs": [
    {
     "name": "stdout",
     "output_type": "stream",
     "text": [
      "Shape of array4 is (2, 3)\n"
     ]
    }
   ],
   "source": [
    "# Array's shape is number of rows by number of columns\n",
    "num_rows, num_cols = array4.shape\n",
    "print(\"Shape of array4 is\", (num_rows, num_cols))"
   ]
  },
  {
   "cell_type": "code",
   "execution_count": 13,
   "id": "87b0dc6cfbb9eee7",
   "metadata": {},
   "outputs": [
    {
     "name": "stdout",
     "output_type": "stream",
     "text": [
      "x coordinates are [0. 1. 2.]\n",
      "y coordinates are [0. 1.]\n"
     ]
    }
   ],
   "source": [
    "# Build a grid of (x, y) coordinates that correspond to row/col position of elements in array4\n",
    "x_coords = np.linspace(0, num_cols - 1, num_cols)\n",
    "y_coords = np.linspace(0, num_rows - 1, num_rows)\n",
    "print(\"x coordinates are\", x_coords)\n",
    "print(\"y coordinates are\", y_coords)"
   ]
  },
  {
   "cell_type": "code",
   "execution_count": 15,
   "id": "24f3a6f509a860d4",
   "metadata": {},
   "outputs": [
    {
     "name": "stdout",
     "output_type": "stream",
     "text": [
      "Grid of x coordinates is\n",
      " [[0. 1. 2.]\n",
      " [0. 1. 2.]]\n",
      "Grid of y coordinates is\n",
      " [[0. 0. 0.]\n",
      " [1. 1. 1.]]\n"
     ]
    }
   ],
   "source": [
    "x_grid, y_grid = np.meshgrid(x_coords, y_coords)\n",
    "print(\"Grid of x coordinates is\\n\", x_grid)\n",
    "print(\"Grid of y coordinates is\\n\", y_grid)"
   ]
  },
  {
   "cell_type": "code",
   "execution_count": 17,
   "id": "d6c5278665814f09",
   "metadata": {},
   "outputs": [
    {
     "name": "stdout",
     "output_type": "stream",
     "text": [
      "(x, y) position of array[1, 0] is 0.0 1.0\n"
     ]
    }
   ],
   "source": [
    "print(\"(x, y) position of array[1, 0] is\", x_grid[1, 0], y_grid[1, 0])\n",
    "# Note that array are indexed by row/col, but points are position by (x, y)\n",
    "# Here, row corresponds to y coordinate, col correspond to x\n",
    "# Origin is in upper left"
   ]
  },
  {
   "cell_type": "code",
   "execution_count": 19,
   "id": "initial_id",
   "metadata": {
    "ExecuteTime": {
     "end_time": "2025-02-07T04:49:46.386407Z",
     "start_time": "2025-02-07T04:48:30.578761Z"
    }
   },
   "outputs": [
    {
     "name": "stdout",
     "output_type": "stream",
     "text": [
      "Transpose of x_grid is\n",
      " [[0. 0.]\n",
      " [1. 1.]\n",
      " [2. 2.]]\n"
     ]
    }
   ],
   "source": [
    "# Compute the transpose of a 2D numpy array\n",
    "print(\"Transpose of x_grid is\\n\", x_grid.T)\n"
   ]
  },
  {
   "cell_type": "code",
   "execution_count": null,
   "id": "34f9f8f4d37a45ac",
   "metadata": {
    "ExecuteTime": {
     "end_time": "2025-02-07T04:49:46.386518Z",
     "start_time": "2025-02-07T04:48:30.591096Z"
    }
   },
   "outputs": [],
   "source": []
  },
  {
   "cell_type": "code",
   "execution_count": null,
   "id": "aa662a87-c041-42cc-81de-5b947116f186",
   "metadata": {},
   "outputs": [],
   "source": []
  },
  {
   "cell_type": "code",
   "execution_count": null,
   "id": "c0201f04-80b3-4f43-b9a9-b60be9ef2f9c",
   "metadata": {},
   "outputs": [],
   "source": []
  }
 ],
 "metadata": {
  "kernelspec": {
   "display_name": "Python [conda env:base] *",
   "language": "python",
   "name": "conda-base-py"
  },
  "language_info": {
   "codemirror_mode": {
    "name": "ipython",
    "version": 3
   },
   "file_extension": ".py",
   "mimetype": "text/x-python",
   "name": "python",
   "nbconvert_exporter": "python",
   "pygments_lexer": "ipython3",
   "version": "3.12.2"
  }
 },
 "nbformat": 4,
 "nbformat_minor": 5
}
