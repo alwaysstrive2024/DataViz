{
 "cells": [
  {
   "cell_type": "code",
   "id": "initial_id",
   "metadata": {
    "collapsed": true,
    "ExecuteTime": {
     "end_time": "2025-02-09T03:34:10.693277Z",
     "start_time": "2025-02-09T03:34:10.612805Z"
    }
   },
   "source": [
    "import numpy as np\n",
    "import sys"
   ],
   "outputs": [],
   "execution_count": 1
  },
  {
   "metadata": {},
   "cell_type": "markdown",
   "source": "# 1D array methods",
   "id": "a032ebd419f3c754"
  },
  {
   "metadata": {
    "ExecuteTime": {
     "end_time": "2025-02-09T03:34:16.744447Z",
     "start_time": "2025-02-09T03:34:16.741646Z"
    }
   },
   "cell_type": "code",
   "source": "array = np.array([1, 2, 3])",
   "id": "96dd97ca85fde279",
   "outputs": [],
   "execution_count": 2
  },
  {
   "metadata": {
    "ExecuteTime": {
     "end_time": "2025-02-09T03:34:17.376666Z",
     "start_time": "2025-02-09T03:34:17.372508Z"
    }
   },
   "cell_type": "code",
   "source": "sys.getsizeof(array[2])",
   "id": "5e9ca78a61be176d",
   "outputs": [
    {
     "data": {
      "text/plain": [
       "32"
      ]
     },
     "execution_count": 3,
     "metadata": {},
     "output_type": "execute_result"
    }
   ],
   "execution_count": 3
  },
  {
   "metadata": {
    "ExecuteTime": {
     "end_time": "2025-02-09T03:34:17.868626Z",
     "start_time": "2025-02-09T03:34:17.865357Z"
    }
   },
   "cell_type": "code",
   "source": [
    "array2 = np.linspace(0., 20., 5)\n",
    "array2.dtype"
   ],
   "id": "7a8ca68b88d5b1bb",
   "outputs": [
    {
     "data": {
      "text/plain": [
       "dtype('float64')"
      ]
     },
     "execution_count": 4,
     "metadata": {},
     "output_type": "execute_result"
    }
   ],
   "execution_count": 4
  },
  {
   "metadata": {
    "ExecuteTime": {
     "end_time": "2025-02-07T04:27:37.355993Z",
     "start_time": "2025-02-07T04:27:37.352105Z"
    }
   },
   "cell_type": "code",
   "source": [
    "array3 =np.linspace(0., 20., 5, dtype=int)\n",
    "print(array3)\n",
    "array3.dtype"
   ],
   "id": "300bbadee7805496",
   "outputs": [
    {
     "name": "stdout",
     "output_type": "stream",
     "text": [
      "[ 0  5 10 15 20]\n"
     ]
    },
    {
     "data": {
      "text/plain": [
       "dtype('int64')"
      ]
     },
     "execution_count": 5,
     "metadata": {},
     "output_type": "execute_result"
    }
   ],
   "execution_count": 5
  },
  {
   "metadata": {
    "ExecuteTime": {
     "end_time": "2025-02-07T04:27:37.472573Z",
     "start_time": "2025-02-07T04:27:37.469741Z"
    }
   },
   "cell_type": "code",
   "source": "array[2]",
   "id": "bab1d98c38986e41",
   "outputs": [
    {
     "data": {
      "text/plain": [
       "3"
      ]
     },
     "execution_count": 6,
     "metadata": {},
     "output_type": "execute_result"
    }
   ],
   "execution_count": 6
  },
  {
   "metadata": {
    "ExecuteTime": {
     "end_time": "2025-02-07T04:27:37.569277Z",
     "start_time": "2025-02-07T04:27:37.566540Z"
    }
   },
   "cell_type": "code",
   "source": "sys.getsizeof(array[2])",
   "id": "85e087dc122114f5",
   "outputs": [
    {
     "data": {
      "text/plain": [
       "32"
      ]
     },
     "execution_count": 7,
     "metadata": {},
     "output_type": "execute_result"
    }
   ],
   "execution_count": 7
  },
  {
   "metadata": {
    "ExecuteTime": {
     "end_time": "2025-02-07T04:27:37.622818Z",
     "start_time": "2025-02-07T04:27:37.619314Z"
    }
   },
   "cell_type": "code",
   "source": "array2[1:-1]",
   "id": "942ad284a591153a",
   "outputs": [
    {
     "data": {
      "text/plain": [
       "array([ 5., 10., 15.])"
      ]
     },
     "execution_count": 8,
     "metadata": {},
     "output_type": "execute_result"
    }
   ],
   "execution_count": 8
  },
  {
   "metadata": {
    "ExecuteTime": {
     "end_time": "2025-02-07T04:27:37.914160Z",
     "start_time": "2025-02-07T04:27:37.677804Z"
    }
   },
   "cell_type": "code",
   "source": "array+array2",
   "id": "61305ac84af59983",
   "outputs": [
    {
     "ename": "ValueError",
     "evalue": "operands could not be broadcast together with shapes (3,) (5,) ",
     "output_type": "error",
     "traceback": [
      "\u001B[0;31m---------------------------------------------------------------------------\u001B[0m",
      "\u001B[0;31mValueError\u001B[0m                                Traceback (most recent call last)",
      "Cell \u001B[0;32mIn[9], line 1\u001B[0m\n\u001B[0;32m----> 1\u001B[0m array\u001B[38;5;241m+\u001B[39marray2\n",
      "\u001B[0;31mValueError\u001B[0m: operands could not be broadcast together with shapes (3,) (5,) "
     ]
    }
   ],
   "execution_count": 9
  },
  {
   "metadata": {
    "ExecuteTime": {
     "end_time": "2025-02-07T04:28:03.460982Z",
     "start_time": "2025-02-07T04:28:03.454568Z"
    }
   },
   "cell_type": "code",
   "source": "array2*3",
   "id": "48ae1c65e0fd3ddf",
   "outputs": [
    {
     "data": {
      "text/plain": [
       "array([ 0., 15., 30., 45., 60.])"
      ]
     },
     "execution_count": 10,
     "metadata": {},
     "output_type": "execute_result"
    }
   ],
   "execution_count": 10
  },
  {
   "metadata": {},
   "cell_type": "markdown",
   "source": "# 2D array operations",
   "id": "3f9784a8ec44fdca"
  },
  {
   "metadata": {
    "ExecuteTime": {
     "end_time": "2025-02-07T04:28:21.104616Z",
     "start_time": "2025-02-07T04:28:21.100845Z"
    }
   },
   "cell_type": "code",
   "source": [
    "array4 = np.array([[0, 1, 2], [4, 5, 6]])\n",
    "array4"
   ],
   "id": "bc83c501986f0c",
   "outputs": [
    {
     "data": {
      "text/plain": [
       "array([[0, 1, 2],\n",
       "       [4, 5, 6]])"
      ]
     },
     "execution_count": 12,
     "metadata": {},
     "output_type": "execute_result"
    }
   ],
   "execution_count": 12
  },
  {
   "metadata": {
    "ExecuteTime": {
     "end_time": "2025-02-07T04:28:33.721992Z",
     "start_time": "2025-02-07T04:28:33.718057Z"
    }
   },
   "cell_type": "code",
   "source": [
    "print(array4[1][0])\n",
    "print(array4[1, 0])"
   ],
   "id": "4d35329103634ced",
   "outputs": [
    {
     "name": "stdout",
     "output_type": "stream",
     "text": [
      "4\n",
      "4\n"
     ]
    }
   ],
   "execution_count": 13
  },
  {
   "metadata": {
    "ExecuteTime": {
     "end_time": "2025-02-07T04:28:43.453025Z",
     "start_time": "2025-02-07T04:28:43.448442Z"
    }
   },
   "cell_type": "code",
   "source": [
    "num_rows, num_cols = array4.shape #returns a tuple\n",
    "print(\"Shape of array4 is\", (num_rows, num_cols))"
   ],
   "id": "581adae217a82b31",
   "outputs": [
    {
     "name": "stdout",
     "output_type": "stream",
     "text": [
      "Shape of array4 is (2, 3)\n"
     ]
    }
   ],
   "execution_count": 14
  },
  {
   "metadata": {},
   "cell_type": "markdown",
   "source": "## Meshgrid",
   "id": "212325a5fd8df6ec"
  },
  {
   "metadata": {
    "ExecuteTime": {
     "end_time": "2025-02-07T04:40:15.802555Z",
     "start_time": "2025-02-07T04:40:15.797663Z"
    }
   },
   "cell_type": "code",
   "source": [
    "num_rows = 5 \n",
    "num_cols = 3\n",
    "x_coords = np.linspace(0, num_cols - 1, num_cols)\n",
    "y_coords = np.linspace(0, num_rows - 1, num_rows)\n",
    "print(\"x coordinates are\", x_coords)\n",
    "print(\"y coordinates are\", y_coords)\n",
    "\n",
    "x_grid, y_grid = np.meshgrid(x_coords, y_coords)\n",
    "print(\"Grid of x coordinates is\\n\", x_grid)\n",
    "print(\"Grid of y coordinates is\\n\", y_grid)"
   ],
   "id": "3683973b9ba60d51",
   "outputs": [
    {
     "name": "stdout",
     "output_type": "stream",
     "text": [
      "x coordinates are [0. 1. 2.]\n",
      "y coordinates are [0. 1. 2. 3. 4.]\n",
      "Grid of x coordinates is\n",
      " [[0. 1. 2.]\n",
      " [0. 1. 2.]\n",
      " [0. 1. 2.]\n",
      " [0. 1. 2.]\n",
      " [0. 1. 2.]]\n",
      "Grid of y coordinates is\n",
      " [[0. 0. 0.]\n",
      " [1. 1. 1.]\n",
      " [2. 2. 2.]\n",
      " [3. 3. 3.]\n",
      " [4. 4. 4.]]\n"
     ]
    }
   ],
   "execution_count": 17
  },
  {
   "metadata": {
    "ExecuteTime": {
     "end_time": "2025-02-07T04:40:49.762511Z",
     "start_time": "2025-02-07T04:40:49.758806Z"
    }
   },
   "cell_type": "code",
   "source": "print(\"(x, y) position of array[1, 0] is\", x_grid[1, 0], y_grid[1, 0])",
   "id": "5c753ee183226d07",
   "outputs": [
    {
     "name": "stdout",
     "output_type": "stream",
     "text": [
      "(x, y) position of array[1, 0] is 0.0 1.0\n"
     ]
    }
   ],
   "execution_count": 18
  },
  {
   "metadata": {},
   "cell_type": "code",
   "outputs": [],
   "execution_count": null,
   "source": "",
   "id": "8effee4262ac252"
  }
 ],
 "metadata": {
  "kernelspec": {
   "display_name": "Python [conda env:base] *",
   "language": "python",
   "name": "conda-base-py"
  },
  "language_info": {
   "codemirror_mode": {
    "name": "ipython",
    "version": 2
   },
   "file_extension": ".py",
   "mimetype": "text/x-python",
   "name": "python",
   "nbconvert_exporter": "python",
   "pygments_lexer": "ipython2",
   "version": "2.7.6"
  }
 },
 "nbformat": 4,
 "nbformat_minor": 5
}
