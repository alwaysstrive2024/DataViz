{
 "cells": [
  {
   "cell_type": "code",
   "id": "initial_id",
   "metadata": {
    "collapsed": true,
    "ExecuteTime": {
     "end_time": "2025-03-03T01:03:22.723828Z",
     "start_time": "2025-03-03T01:03:22.559825Z"
    }
   },
   "source": [
    "import networkx as nx\n",
    "# Create a simple graph\n",
    "grph = nx.Graph()\n",
    "grph.add_nodes_from([2, 3, 5, 7])\n",
    "grph.add_edges_from ([(2, 3), (3, 5), (3, 7), (5, 7)])\n",
    "\n",
    "\n",
    "# Select a built-in graph\n",
    "cube = nx.cubical_graph()\n",
    "print(cube.nodes)\n",
    "print(cube.edges)\n",
    "\n",
    "# Output:\n",
    "# [0, 1, 2, 3, 4, 5, 6, 7]\n",
    "# [(0, 1), (0, 3), (0, 4), (1, 2), (1, 7), (2, 3), (2, 6), (3, 5), (4, 5), (4, 7), (5, 6), (6, 7)]"
   ],
   "outputs": [
    {
     "name": "stdout",
     "output_type": "stream",
     "text": [
      "[0, 1, 2, 3, 4, 5, 6, 7]\n",
      "[(0, 1), (0, 3), (0, 4), (1, 2), (1, 7), (2, 3), (2, 6), (3, 5), (4, 5), (4, 7), (5, 6), (6, 7)]\n"
     ]
    }
   ],
   "execution_count": 1
  },
  {
   "metadata": {
    "ExecuteTime": {
     "end_time": "2025-03-03T01:03:22.743146Z",
     "start_time": "2025-03-03T01:03:22.740872Z"
    }
   },
   "cell_type": "code",
   "source": [
    "print(grph[3])\n",
    "print(cube[0])"
   ],
   "id": "61b661facf3389cb",
   "outputs": [
    {
     "name": "stdout",
     "output_type": "stream",
     "text": [
      "{2: {}, 5: {}, 7: {}}\n",
      "{1: {}, 3: {}, 4: {}}\n"
     ]
    }
   ],
   "execution_count": 2
  },
  {
   "metadata": {
    "ExecuteTime": {
     "end_time": "2025-03-03T01:03:22.863120Z",
     "start_time": "2025-03-03T01:03:22.861154Z"
    }
   },
   "cell_type": "code",
   "source": [
    "grph_dict = nx.to_dict_of_dicts(grph)\n",
    "for node in grph_dict:\n",
    "    print(node, grph_dict[node])"
   ],
   "id": "59a6a0620d32e7e",
   "outputs": [
    {
     "name": "stdout",
     "output_type": "stream",
     "text": [
      "2 {3: {}}\n",
      "3 {2: {}, 5: {}, 7: {}}\n",
      "5 {3: {}, 7: {}}\n",
      "7 {3: {}, 5: {}}\n"
     ]
    }
   ],
   "execution_count": 3
  },
  {
   "metadata": {
    "ExecuteTime": {
     "end_time": "2025-03-03T01:03:22.881802Z",
     "start_time": "2025-03-03T01:03:22.879144Z"
    }
   },
   "cell_type": "code",
   "source": [
    "cube_dict = nx.to_dict_of_dicts(cube)\n",
    "for node in cube_dict:\n",
    "    print(node, cube_dict[node])"
   ],
   "id": "4772cb822a82178",
   "outputs": [
    {
     "name": "stdout",
     "output_type": "stream",
     "text": [
      "0 {1: {}, 3: {}, 4: {}}\n",
      "1 {0: {}, 2: {}, 7: {}}\n",
      "2 {1: {}, 3: {}, 6: {}}\n",
      "3 {0: {}, 2: {}, 5: {}}\n",
      "4 {0: {}, 5: {}, 7: {}}\n",
      "5 {3: {}, 4: {}, 6: {}}\n",
      "6 {2: {}, 5: {}, 7: {}}\n",
      "7 {1: {}, 4: {}, 6: {}}\n"
     ]
    }
   ],
   "execution_count": 4
  },
  {
   "metadata": {
    "ExecuteTime": {
     "end_time": "2025-03-03T01:03:23.022238Z",
     "start_time": "2025-03-03T01:03:23.019702Z"
    }
   },
   "cell_type": "code",
   "source": [
    "shortest = nx.shortest_path(grph, 2, 7)\n",
    "print(shortest)"
   ],
   "id": "9332eeefd601f7d4",
   "outputs": [
    {
     "name": "stdout",
     "output_type": "stream",
     "text": [
      "[2, 3, 7]\n"
     ]
    }
   ],
   "execution_count": 5
  },
  {
   "metadata": {
    "ExecuteTime": {
     "end_time": "2025-03-03T01:03:23.088630Z",
     "start_time": "2025-03-03T01:03:23.086141Z"
    }
   },
   "cell_type": "code",
   "source": [
    "all_shortest = dict(nx.all_pairs_shortest_path(grph))\n",
    "print(all_shortest)"
   ],
   "id": "5fceac9eb4744fe3",
   "outputs": [
    {
     "name": "stdout",
     "output_type": "stream",
     "text": [
      "{2: {2: [2], 3: [2, 3], 5: [2, 3, 5], 7: [2, 3, 7]}, 3: {3: [3], 2: [3, 2], 5: [3, 5], 7: [3, 7]}, 5: {5: [5], 3: [5, 3], 7: [5, 7], 2: [5, 3, 2]}, 7: {7: [7], 3: [7, 3], 5: [7, 5], 2: [7, 3, 2]}}\n"
     ]
    }
   ],
   "execution_count": 6
  },
  {
   "metadata": {
    "ExecuteTime": {
     "end_time": "2025-03-03T01:03:23.145514Z",
     "start_time": "2025-03-03T01:03:23.143060Z"
    }
   },
   "cell_type": "code",
   "source": "print(all_shortest[2][7])",
   "id": "9b867237598fbda4",
   "outputs": [
    {
     "name": "stdout",
     "output_type": "stream",
     "text": [
      "[2, 3, 7]\n"
     ]
    }
   ],
   "execution_count": 7
  },
  {
   "metadata": {
    "ExecuteTime": {
     "end_time": "2025-03-03T01:03:23.209663Z",
     "start_time": "2025-03-03T01:03:23.205134Z"
    }
   },
   "cell_type": "code",
   "source": "dict(nx.all_pairs_shortest_path_length(grph))",
   "id": "9a496c04905e743d",
   "outputs": [
    {
     "data": {
      "text/plain": [
       "{2: {2: 0, 3: 1, 5: 2, 7: 2},\n",
       " 3: {3: 0, 2: 1, 5: 1, 7: 1},\n",
       " 5: {5: 0, 3: 1, 7: 1, 2: 2},\n",
       " 7: {7: 0, 3: 1, 5: 1, 2: 2}}"
      ]
     },
     "execution_count": 8,
     "metadata": {},
     "output_type": "execute_result"
    }
   ],
   "execution_count": 8
  },
  {
   "metadata": {
    "ExecuteTime": {
     "end_time": "2025-03-03T01:03:23.262496Z",
     "start_time": "2025-03-03T01:03:23.260957Z"
    }
   },
   "cell_type": "code",
   "source": "",
   "id": "e8332bf2c3b665e0",
   "outputs": [],
   "execution_count": null
  }
 ],
 "metadata": {
  "kernelspec": {
   "display_name": "Python [conda env:base] *",
   "language": "python",
   "name": "conda-base-py"
  },
  "language_info": {
   "codemirror_mode": {
    "name": "ipython",
    "version": 2
   },
   "file_extension": ".py",
   "mimetype": "text/x-python",
   "name": "python",
   "nbconvert_exporter": "python",
   "pygments_lexer": "ipython2",
   "version": "2.7.6"
  }
 },
 "nbformat": 4,
 "nbformat_minor": 5
}
