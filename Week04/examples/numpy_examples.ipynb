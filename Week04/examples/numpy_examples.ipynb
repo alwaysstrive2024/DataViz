{
 "cells": [
  {
   "cell_type": "code",
   "id": "initial_id",
   "metadata": {
    "collapsed": true,
    "ExecuteTime": {
     "end_time": "2025-02-08T21:41:11.127190Z",
     "start_time": "2025-02-08T21:41:10.985884Z"
    }
   },
   "source": [
    "\"\"\"\n",
    "Simple examples of numpy in action\n",
    "\"\"\"\n",
    "\n",
    "import numpy as np\n",
    "\n",
    "# 1D arrays\n",
    "\n",
    "# array method converts list to numpy array  \n",
    "array1 = np.array([0, 3, 7, 12, 18])\n",
    "print(\"array1 is\", array1)\n",
    "\n",
    "# Create an array of 5 equally spaced numbers from 0 to 20  \n",
    "array2 = np.linspace(0.0, 20.0, 5)\n",
    "print(\"array2 is\", array2)\n",
    "\n",
    "# Get the data type of array2\n",
    "print(\"The data type of array2 is\", array2.dtype)\n",
    "\n",
    "# Create an array similar to array2 including integers \n",
    "array3 = np.linspace(0., 20., 5, dtype=int)\n",
    "print(\"array3 is\", array3)\n",
    "print(\"The data type of array3 is\", array3.dtype)\n",
    "\n",
    "# Select from 1D array by passing an index or a slice\n",
    "print(array1[2])\n",
    "print(array3[1:-1])\n",
    "\n",
    "# Arithmetic operations applied to arrays  \n",
    "print(\"array1 + array3 equals\\n\", array1 + array3)\n",
    "print(\"array2 * 3 equals\\n\", array2 * 3)\n",
    "\n",
    "\n",
    "# 2D arrays\n",
    "\n",
    "# Simple example of 2D array\n",
    "array4 = np.array([[0, 1, 2], [4, 5, 6]])\n",
    "print(\"2D example array\\n\", array4)\n",
    "\n",
    "# Note 2D arrays are indexed by (row, col)\n",
    "print(\"Entry (1, 0) of array4 is\", array4[1, 0])\n",
    "\n",
    "# Array's shape is number of rows by number of columns\n",
    "num_rows, num_cols = array4.shape\n",
    "print(\"Shape of array4 is\", (num_rows, num_cols)) \n",
    "\n",
    "\n",
    "# Build a grid of (x, y) coordinates that correspond to row/col position of elements in array4\n",
    "x_coords = np.linspace(0, num_cols - 1, num_cols)\n",
    "y_coords = np.linspace(0, num_rows - 1, num_rows)\n",
    "print(\"x coordinates are\", x_coords)\n",
    "print(\"y coordinates are\", y_coords)\n",
    "\n",
    "x_grid, y_grid = np.meshgrid(x_coords, y_coords)\n",
    "print(\"Grid of x coordinates is\\n\", x_grid)\n",
    "print(\"Grid of y coordinates is\\n\", y_grid)\n",
    "\n",
    "print(\"(x, y) position of array[1, 0] is\", x_grid[1, 0], y_grid[1, 0])\n",
    "# Note that array are indexed by row/col, but points are position by (x, y)\n",
    "# Here, row corresponds to y coordinate, col correspond to x\n",
    "# Origin is in upper left\n",
    "\n",
    "# Compute the transpose of a 2D numpy array \n",
    "print(\"Transpose of x_grid is\\n\", x_grid.T)\n"
   ],
   "outputs": [
    {
     "name": "stdout",
     "output_type": "stream",
     "text": [
      "array1 is [ 0  3  7 12 18]\n",
      "array2 is [ 0.  5. 10. 15. 20.]\n",
      "The data type of array2 is float64\n",
      "array3 is [ 0  5 10 15 20]\n",
      "The data type of array3 is int64\n",
      "7\n",
      "[ 5 10 15]\n",
      "array1 + array3 equals\n",
      " [ 0  8 17 27 38]\n",
      "array2 * 3 equals\n",
      " [ 0. 15. 30. 45. 60.]\n",
      "2D example array\n",
      " [[0 1 2]\n",
      " [4 5 6]]\n",
      "Entry (1, 0) of array4 is 4\n",
      "Shape of array4 is (2, 3)\n",
      "x coordinates are [0. 1. 2.]\n",
      "y coordinates are [0. 1.]\n",
      "Grid of x coordinates is\n",
      " [[0. 1. 2.]\n",
      " [0. 1. 2.]]\n",
      "Grid of y coordinates is\n",
      " [[0. 0. 0.]\n",
      " [1. 1. 1.]]\n",
      "(x, y) position of array[1, 0] is 0.0 1.0\n",
      "Transpose of x_grid is\n",
      " [[0. 0.]\n",
      " [1. 1.]\n",
      " [2. 2.]]\n"
     ]
    }
   ],
   "execution_count": 1
  },
  {
   "metadata": {},
   "cell_type": "code",
   "outputs": [],
   "execution_count": null,
   "source": "",
   "id": "1cb06ac3d1498913"
  }
 ],
 "metadata": {
  "kernelspec": {
   "display_name": "Python 3",
   "language": "python",
   "name": "python3"
  },
  "language_info": {
   "codemirror_mode": {
    "name": "ipython",
    "version": 2
   },
   "file_extension": ".py",
   "mimetype": "text/x-python",
   "name": "python",
   "nbconvert_exporter": "python",
   "pygments_lexer": "ipython2",
   "version": "2.7.6"
  }
 },
 "nbformat": 4,
 "nbformat_minor": 5
}
